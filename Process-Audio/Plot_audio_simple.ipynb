{
 "cells": [
  {
   "cell_type": "code",
   "execution_count": 1,
   "metadata": {},
   "outputs": [],
   "source": [
    "import os\n",
    "import sys\n",
    "import wave\n",
    "from glob import glob\n",
    "import matplotlib.pyplot as plt\n",
    "import numpy as np\n",
    "\n",
    "from scipy.io.wavfile import read\n",
    "\n",
    "import scipy.io.wavfile\n",
    "from scipy.fftpack import dct, idct\n",
    "from sklearn.preprocessing import scale\n",
    "import warnings\n",
    "warnings.filterwarnings(\"ignore\")\n",
    "\n",
    "from AudioFunctions import *"
   ]
  },
  {
   "cell_type": "code",
   "execution_count": 15,
   "metadata": {},
   "outputs": [],
   "source": [
    "ybounds = (-10000000,10000000)\n",
    "audio_folder = '/Users/maggie/Desktop/audio_files_to_plot'\n",
    "audio_files = glob(os.path.join(audio_folder, '*.wav'))\n",
    "\n"
   ]
  },
  {
   "cell_type": "code",
   "execution_count": 3,
   "metadata": {},
   "outputs": [],
   "source": [
    "def get_title(f):\n",
    "    fname = os.path.basename(f).strip('.wav').split('_')\n",
    "    day, time = fname[0].split(' ')\n",
    "    hub, action = fname[2], fname[3]\n",
    "    time = f'{time[0:2]}:{time[2:4]}:{time[4:6]}'\n",
    "    ftitle = f'{hub} {day} {time} {action}'\n",
    "    return ftitle\n",
    "\n",
    "def get_wav(wav_file, fs=8000):\n",
    "    input_data = read(wav_file)\n",
    "    sig = input_data[1]\n",
    "    signal = sig - np.mean(sig)\n",
    "    time_axis = np.linspace(0, len(sig) / fs, num=len(sig))\n",
    "    title = get_title(wav_file)\n",
    "    \n",
    "    return time_axis, signal, title"
   ]
  },
  {
   "cell_type": "code",
   "execution_count": 17,
   "metadata": {},
   "outputs": [],
   "source": [
    "def plot_wavs(f1, f2, fs=8000):\n",
    "    x1, y1, t1 = get_wav(f1)\n",
    "    x2, y2, t2 = get_wav(f2)\n",
    "    \n",
    "    plt.figure(1)\n",
    "    plt.ticklabel_format(style='plain')\n",
    "    plt.plot(x1, y1, label=t1.split(' ')[-1])\n",
    "    plt.plot(x2, y2, label=t2.split(' ')[-1], alpha=0.6)\n",
    "    plt.xlabel('Time (seconds)')\n",
    "    plt.ylabel('Signal Amplitude')\n",
    "    plt.ylim(ybounds)\n",
    "\n",
    "    plt.legend()\n",
    "    plt.tight_layout()\n",
    "    plt.savefig(os.path.join(audio_folder, 'plots_sample', f'wav-{t1.split(\" \")[-1]}-{t2.split(\" \")[-1]}'))\n",
    "    plt.clf()\n",
    "    \n"
   ]
  },
  {
   "cell_type": "code",
   "execution_count": 18,
   "metadata": {},
   "outputs": [
    {
     "data": {
      "text/plain": [
       "<Figure size 432x288 with 0 Axes>"
      ]
     },
     "metadata": {},
     "output_type": "display_data"
    }
   ],
   "source": [
    "noise_file = audio_files[0]\n",
    "quiet_file = audio_files[1]\n",
    "\n",
    "plot_wavs(noise_file, quiet_file)"
   ]
  },
  {
   "cell_type": "code",
   "execution_count": 22,
   "metadata": {},
   "outputs": [],
   "source": [
    "def return_filter(path):\n",
    "    data = np.load(path)  \n",
    "    filters = {i+1: data[i] for i in range(len(data)) }\n",
    "    return filters\n",
    "\n",
    "\n",
    "def plot_filters(f1, f2):\n",
    "    filters1 = return_filter(f1)\n",
    "    action1, action2 = 'movement1', 'noSound'\n",
    "    filters2 = return_filter(f2)\n",
    "\n",
    "    fig = plt.figure(figsize=(25,15))\n",
    "    \n",
    "    for i in range(1,len(filters1)+1):\n",
    "        ax = fig.add_subplot(4,4,i)\n",
    "        y1 = filters1[i]\n",
    "        y2 = filters2[i]\n",
    "        x = np.linspace(0, 10, num=len(y1))\n",
    "        \n",
    "        ax.ticklabel_format(style='plain')\n",
    "        ax.plot(x, y1, label=action1, alpha=0.6)\n",
    "        ax.plot(x, y2, label=action2, alpha=0.6)\n",
    "        ax.set_title(f'filter {i}')\n",
    "\n",
    "    plt.legend()\n",
    "    fig.suptitle(f'H1 {action1}-{action2} After Filtering', fontsize=20)\n",
    "    plt.savefig(os.path.join(audio_folder, 'plots_sample', f'after_filter-{action1}-{action2}'))    \n",
    "    plt.clf()"
   ]
  },
  {
   "cell_type": "code",
   "execution_count": 23,
   "metadata": {},
   "outputs": [
    {
     "name": "stdout",
     "output_type": "stream",
     "text": [
      "/Users/maggie/Desktop/plot_audio/filter_output/RS1-noise.npy\n"
     ]
    },
    {
     "data": {
      "text/plain": [
       "<Figure size 1800x1080 with 0 Axes>"
      ]
     },
     "metadata": {},
     "output_type": "display_data"
    }
   ],
   "source": [
    "movement1 = '/Users/maggie/Desktop/plot_audio/filter_output/RS1-noise.npy'\n",
    "noSound = '/Users/maggie/Desktop/plot_audio/filter_output/RS1-quiet.npy'\n",
    "\n",
    "plot_filters(movement1, noSound)"
   ]
  }
 ],
 "metadata": {
  "kernelspec": {
   "display_name": "Python 3",
   "language": "python",
   "name": "python3"
  },
  "language_info": {
   "codemirror_mode": {
    "name": "ipython",
    "version": 3
   },
   "file_extension": ".py",
   "mimetype": "text/x-python",
   "name": "python",
   "nbconvert_exporter": "python",
   "pygments_lexer": "ipython3",
   "version": "3.7.4"
  }
 },
 "nbformat": 4,
 "nbformat_minor": 4
}
