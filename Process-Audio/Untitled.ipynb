{
 "cells": [
  {
   "cell_type": "code",
   "execution_count": 3,
   "metadata": {},
   "outputs": [],
   "source": [
    "import os\n",
    "from glob import glob\n",
    "import numpy as np\n",
    "import pandas as pd\n",
    "from my_functions import *"
   ]
  },
  {
   "cell_type": "code",
   "execution_count": 22,
   "metadata": {},
   "outputs": [
    {
     "name": "stdout",
     "output_type": "stream",
     "text": [
      "(492, 1000, 16)\n",
      "(397, 1000, 16)\n",
      "(458, 1000, 16)\n",
      "(323, 1000, 16)\n",
      "(496, 1000, 16)\n",
      "(300, 1000, 16)\n",
      "(303, 1000, 16)\n",
      "(322, 1000, 16)\n",
      "(323, 1000, 16)\n",
      "(410, 1000, 16)\n"
     ]
    }
   ],
   "source": [
    "path1 = '/Users/maggie/Documents/Github/HPD-Inference_and_Processing/Audio/Inference-Audio/Audio_CNN/H1-red/processed/'\n",
    "\n",
    "x = 0\n",
    "for numpy_file in glob(os.path.join(path1, '*.npy')):\n",
    "    data = np.load(numpy_file)\n",
    "    print(np.shape(data))\n"
   ]
  },
  {
   "cell_type": "code",
   "execution_count": 69,
   "metadata": {},
   "outputs": [
    {
     "name": "stdout",
     "output_type": "stream",
     "text": [
      "(347, 16, 1000)\n",
      "(350, 16, 1000)\n",
      "(332, 16, 1000)\n",
      "(329, 16, 1000)\n",
      "(359, 16, 1000)\n",
      "(329, 16, 1000)\n",
      "(329, 16, 1000)\n",
      "(354, 16, 1000)\n",
      "(309, 16, 1000)\n",
      "(344, 16, 1000)\n",
      "(318, 16, 1000)\n",
      "(328, 16, 1000)\n",
      "(348, 16, 1000)\n",
      "(359, 16, 1000)\n",
      "(360, 16, 1000)\n",
      "(347, 16, 1000)\n",
      "(348, 16, 1000)\n",
      "(358, 16, 1000)\n",
      "(348, 16, 1000)\n",
      "(351, 16, 1000)\n",
      "(329, 16, 1000)\n",
      "(359, 16, 1000)\n",
      "(348, 16, 1000)\n",
      "(345, 16, 1000)\n"
     ]
    }
   ],
   "source": [
    "path2 = '/Volumes/TOSHIBA-21/H1-red/RS1/processed_audio/audio_downsampled/2019-11-06/'\n",
    "\n",
    "for npz in glob(os.path.join(path2, '*.npz')):\n",
    "    hour = os.path.basename(npz).split('_')[1]\n",
    "    full_hr = np.load(npz)\n",
    "#     print(type(audio_data.files))\n",
    "    times = full_hr.files\n",
    "    time_keys, audio_data = [], []\n",
    "    for time in times:\n",
    "        if len(full_hr[time]) > 0:\n",
    "            time_keys.append(time)\n",
    "            audio_data.append(full_hr[time])\n",
    "\n",
    "    data = np.stack(audio_data)\n",
    "    data = data.transpose(0,2,1)\n",
    "    print(np.shape(data))\n",
    "\n",
    "#         print(time, np.shape(audio_data[time]))\n",
    "#     data = [audio_data[time] for time in times if len(audio_data[time]>0)]\n",
    "#     print(np.shape(np.stack(data)))\n",
    "    \n",
    "    \n",
    "#     for t in times:\n",
    "#         print(type(t), t)\n",
    "# #     print(time_keys)\n",
    "    \n",
    "#     \n",
    "#     for time in times:\n",
    "#         ds = np.asarray([audio_data[time]])\n",
    "#         dst = ds.transpose(0,2,1)\n",
    "        \n",
    "        \n",
    "        \n",
    "#         keys = np.fromiter(Samples.keys(), dtype=float)\n",
    "# vals = np.fromiter(Samples.values(), dtype=float)"
   ]
  },
  {
   "cell_type": "code",
   "execution_count": null,
   "metadata": {},
   "outputs": [],
   "source": [
    "        hour = os.path.basename(npz).split('_')[1]\n",
    "        audio_data = np.load(npz)\n",
    "        times = audio_data.files\n",
    "\n",
    "        preds = []\n",
    "\n",
    "        for time in times:\n",
    "            DCTs = audio_data[time]"
   ]
  },
  {
   "cell_type": "code",
   "execution_count": null,
   "metadata": {},
   "outputs": [],
   "source": [
    "def open_npz(noise_file, path, audio_type='ds'):\n",
    "    home = os.path.basename(path).split('-')[0]\n",
    "    hub, day, time, action = get_title(noise_file).split(' ')\n",
    "\n",
    "    file = f'{day}_{str(time[0:2])}00_{hub}_{home}_{audio_type}.npz'\n",
    "    npz = os.path.join(path, hub, 'processed_audio', ps_type[audio_type], day, file)\n",
    "    data = np.load(npz)  "
   ]
  }
 ],
 "metadata": {
  "kernelspec": {
   "display_name": "Python 3",
   "language": "python",
   "name": "python3"
  },
  "language_info": {
   "codemirror_mode": {
    "name": "ipython",
    "version": 3
   },
   "file_extension": ".py",
   "mimetype": "text/x-python",
   "name": "python",
   "nbconvert_exporter": "python",
   "pygments_lexer": "ipython3",
   "version": "3.7.4"
  }
 },
 "nbformat": 4,
 "nbformat_minor": 4
}
